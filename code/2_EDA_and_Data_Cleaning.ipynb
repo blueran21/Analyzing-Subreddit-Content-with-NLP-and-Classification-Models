{
 "cells": [
  {
   "cell_type": "code",
   "execution_count": 1,
   "id": "ca7ed737-d1b0-452d-8039-0bd994d96ba6",
   "metadata": {},
   "outputs": [],
   "source": [
    "# Import libraries\n",
    "import pandas as pd\n",
    "import numpy as np\n",
    "import matplotlib.pyplot as plt\n",
    "import seaborn as sns"
   ]
  },
  {
   "cell_type": "code",
   "execution_count": 2,
   "id": "918a6ce8-4396-4138-b426-c0692b4151b7",
   "metadata": {},
   "outputs": [],
   "source": [
    "# import subreddit data seperately\n",
    "se = pd.read_csv('../data/SoftwareEngineering.csv')\n",
    "ds = pd.read_csv('../data/datascience.csv')"
   ]
  },
  {
   "cell_type": "code",
   "execution_count": 3,
   "id": "b488211f-e4e1-402c-a33b-b17f70a74623",
   "metadata": {},
   "outputs": [
    {
     "data": {
      "text/html": [
       "<div>\n",
       "<style scoped>\n",
       "    .dataframe tbody tr th:only-of-type {\n",
       "        vertical-align: middle;\n",
       "    }\n",
       "\n",
       "    .dataframe tbody tr th {\n",
       "        vertical-align: top;\n",
       "    }\n",
       "\n",
       "    .dataframe thead th {\n",
       "        text-align: right;\n",
       "    }\n",
       "</style>\n",
       "<table border=\"1\" class=\"dataframe\">\n",
       "  <thead>\n",
       "    <tr style=\"text-align: right;\">\n",
       "      <th></th>\n",
       "      <th>selftext</th>\n",
       "      <th>title</th>\n",
       "      <th>subreddit</th>\n",
       "    </tr>\n",
       "  </thead>\n",
       "  <tbody>\n",
       "    <tr>\n",
       "      <th>0</th>\n",
       "      <td>I recently dropped out of college from a nursi...</td>\n",
       "      <td>Will coding boot camps help me get a job in te...</td>\n",
       "      <td>SoftwareEngineering</td>\n",
       "    </tr>\n",
       "    <tr>\n",
       "      <th>1</th>\n",
       "      <td>NaN</td>\n",
       "      <td>Maybe people do care about performance and rel...</td>\n",
       "      <td>SoftwareEngineering</td>\n",
       "    </tr>\n",
       "    <tr>\n",
       "      <th>2</th>\n",
       "      <td>Hey everyone,\\n\\nI've been wondering if there'...</td>\n",
       "      <td>Is there a way to have dynamic types between l...</td>\n",
       "      <td>SoftwareEngineering</td>\n",
       "    </tr>\n",
       "    <tr>\n",
       "      <th>3</th>\n",
       "      <td>what are the public spanish universities that ...</td>\n",
       "      <td>spanish universities</td>\n",
       "      <td>SoftwareEngineering</td>\n",
       "    </tr>\n",
       "    <tr>\n",
       "      <th>4</th>\n",
       "      <td>So I am building an app like omegle, and I was...</td>\n",
       "      <td>Small question about users for a product.</td>\n",
       "      <td>SoftwareEngineering</td>\n",
       "    </tr>\n",
       "  </tbody>\n",
       "</table>\n",
       "</div>"
      ],
      "text/plain": [
       "                                            selftext  \\\n",
       "0  I recently dropped out of college from a nursi...   \n",
       "1                                                NaN   \n",
       "2  Hey everyone,\\n\\nI've been wondering if there'...   \n",
       "3  what are the public spanish universities that ...   \n",
       "4  So I am building an app like omegle, and I was...   \n",
       "\n",
       "                                               title            subreddit  \n",
       "0  Will coding boot camps help me get a job in te...  SoftwareEngineering  \n",
       "1  Maybe people do care about performance and rel...  SoftwareEngineering  \n",
       "2  Is there a way to have dynamic types between l...  SoftwareEngineering  \n",
       "3                               spanish universities  SoftwareEngineering  \n",
       "4          Small question about users for a product.  SoftwareEngineering  "
      ]
     },
     "execution_count": 3,
     "metadata": {},
     "output_type": "execute_result"
    }
   ],
   "source": [
    "se.head()"
   ]
  },
  {
   "cell_type": "code",
   "execution_count": 4,
   "id": "0585c1d1-5100-4b84-916a-39d820eb7c8b",
   "metadata": {},
   "outputs": [
    {
     "data": {
      "text/html": [
       "<div>\n",
       "<style scoped>\n",
       "    .dataframe tbody tr th:only-of-type {\n",
       "        vertical-align: middle;\n",
       "    }\n",
       "\n",
       "    .dataframe tbody tr th {\n",
       "        vertical-align: top;\n",
       "    }\n",
       "\n",
       "    .dataframe thead th {\n",
       "        text-align: right;\n",
       "    }\n",
       "</style>\n",
       "<table border=\"1\" class=\"dataframe\">\n",
       "  <thead>\n",
       "    <tr style=\"text-align: right;\">\n",
       "      <th></th>\n",
       "      <th>selftext</th>\n",
       "      <th>title</th>\n",
       "      <th>subreddit</th>\n",
       "    </tr>\n",
       "  </thead>\n",
       "  <tbody>\n",
       "    <tr>\n",
       "      <th>0</th>\n",
       "      <td>Que me pueden contar estoy estudiando con Cour...</td>\n",
       "      <td>Data science</td>\n",
       "      <td>datascience</td>\n",
       "    </tr>\n",
       "    <tr>\n",
       "      <th>1</th>\n",
       "      <td>[removed]</td>\n",
       "      <td>Master degree gpa</td>\n",
       "      <td>datascience</td>\n",
       "    </tr>\n",
       "    <tr>\n",
       "      <th>2</th>\n",
       "      <td>I'm hosting a free workshop this Friday, 11am-...</td>\n",
       "      <td>For those of you unsure of how to apply techni...</td>\n",
       "      <td>datascience</td>\n",
       "    </tr>\n",
       "    <tr>\n",
       "      <th>3</th>\n",
       "      <td>Im about to graduate this quarter w a Stats an...</td>\n",
       "      <td>Career Advice</td>\n",
       "      <td>datascience</td>\n",
       "    </tr>\n",
       "    <tr>\n",
       "      <th>4</th>\n",
       "      <td>Hey, Is there anyone here whos familiar with t...</td>\n",
       "      <td>MS data analytics at Yeshiva university</td>\n",
       "      <td>datascience</td>\n",
       "    </tr>\n",
       "  </tbody>\n",
       "</table>\n",
       "</div>"
      ],
      "text/plain": [
       "                                            selftext  \\\n",
       "0  Que me pueden contar estoy estudiando con Cour...   \n",
       "1                                          [removed]   \n",
       "2  I'm hosting a free workshop this Friday, 11am-...   \n",
       "3  Im about to graduate this quarter w a Stats an...   \n",
       "4  Hey, Is there anyone here whos familiar with t...   \n",
       "\n",
       "                                               title    subreddit  \n",
       "0                                       Data science  datascience  \n",
       "1                                  Master degree gpa  datascience  \n",
       "2  For those of you unsure of how to apply techni...  datascience  \n",
       "3                                      Career Advice  datascience  \n",
       "4            MS data analytics at Yeshiva university  datascience  "
      ]
     },
     "execution_count": 4,
     "metadata": {},
     "output_type": "execute_result"
    }
   ],
   "source": [
    "ds.head()"
   ]
  },
  {
   "cell_type": "code",
   "execution_count": 5,
   "id": "8d37e062-9c24-4952-8b34-ddd77ffa55c9",
   "metadata": {},
   "outputs": [],
   "source": [
    "# Combine two subreddits\n",
    "df = pd.concat([se, ds], axis = 0, ignore_index = True)"
   ]
  },
  {
   "cell_type": "code",
   "execution_count": 6,
   "id": "948aa97e-dd25-47a0-9e61-f14345a8ede4",
   "metadata": {},
   "outputs": [
    {
     "data": {
      "text/html": [
       "<div>\n",
       "<style scoped>\n",
       "    .dataframe tbody tr th:only-of-type {\n",
       "        vertical-align: middle;\n",
       "    }\n",
       "\n",
       "    .dataframe tbody tr th {\n",
       "        vertical-align: top;\n",
       "    }\n",
       "\n",
       "    .dataframe thead th {\n",
       "        text-align: right;\n",
       "    }\n",
       "</style>\n",
       "<table border=\"1\" class=\"dataframe\">\n",
       "  <thead>\n",
       "    <tr style=\"text-align: right;\">\n",
       "      <th></th>\n",
       "      <th>selftext</th>\n",
       "      <th>title</th>\n",
       "      <th>subreddit</th>\n",
       "    </tr>\n",
       "  </thead>\n",
       "  <tbody>\n",
       "    <tr>\n",
       "      <th>0</th>\n",
       "      <td>I recently dropped out of college from a nursi...</td>\n",
       "      <td>Will coding boot camps help me get a job in te...</td>\n",
       "      <td>SoftwareEngineering</td>\n",
       "    </tr>\n",
       "    <tr>\n",
       "      <th>1</th>\n",
       "      <td>NaN</td>\n",
       "      <td>Maybe people do care about performance and rel...</td>\n",
       "      <td>SoftwareEngineering</td>\n",
       "    </tr>\n",
       "    <tr>\n",
       "      <th>2</th>\n",
       "      <td>Hey everyone,\\n\\nI've been wondering if there'...</td>\n",
       "      <td>Is there a way to have dynamic types between l...</td>\n",
       "      <td>SoftwareEngineering</td>\n",
       "    </tr>\n",
       "    <tr>\n",
       "      <th>3</th>\n",
       "      <td>what are the public spanish universities that ...</td>\n",
       "      <td>spanish universities</td>\n",
       "      <td>SoftwareEngineering</td>\n",
       "    </tr>\n",
       "    <tr>\n",
       "      <th>4</th>\n",
       "      <td>So I am building an app like omegle, and I was...</td>\n",
       "      <td>Small question about users for a product.</td>\n",
       "      <td>SoftwareEngineering</td>\n",
       "    </tr>\n",
       "    <tr>\n",
       "      <th>...</th>\n",
       "      <td>...</td>\n",
       "      <td>...</td>\n",
       "      <td>...</td>\n",
       "    </tr>\n",
       "    <tr>\n",
       "      <th>11989</th>\n",
       "      <td>NaN</td>\n",
       "      <td>AI-generated poetry about data science</td>\n",
       "      <td>datascience</td>\n",
       "    </tr>\n",
       "    <tr>\n",
       "      <th>11990</th>\n",
       "      <td>[deleted]</td>\n",
       "      <td>I just accepted an offer for a Data Science po...</td>\n",
       "      <td>datascience</td>\n",
       "    </tr>\n",
       "    <tr>\n",
       "      <th>11991</th>\n",
       "      <td>NaN</td>\n",
       "      <td>Now get all official and unofficial code imple...</td>\n",
       "      <td>datascience</td>\n",
       "    </tr>\n",
       "    <tr>\n",
       "      <th>11992</th>\n",
       "      <td>Does such a thing exist? I am not a data scien...</td>\n",
       "      <td>Poor mans saas hosted Alteryx?</td>\n",
       "      <td>datascience</td>\n",
       "    </tr>\n",
       "    <tr>\n",
       "      <th>11993</th>\n",
       "      <td>[removed]</td>\n",
       "      <td>Business analyst or Help desk lead?</td>\n",
       "      <td>datascience</td>\n",
       "    </tr>\n",
       "  </tbody>\n",
       "</table>\n",
       "<p>11994 rows × 3 columns</p>\n",
       "</div>"
      ],
      "text/plain": [
       "                                                selftext  \\\n",
       "0      I recently dropped out of college from a nursi...   \n",
       "1                                                    NaN   \n",
       "2      Hey everyone,\\n\\nI've been wondering if there'...   \n",
       "3      what are the public spanish universities that ...   \n",
       "4      So I am building an app like omegle, and I was...   \n",
       "...                                                  ...   \n",
       "11989                                                NaN   \n",
       "11990                                          [deleted]   \n",
       "11991                                                NaN   \n",
       "11992  Does such a thing exist? I am not a data scien...   \n",
       "11993                                          [removed]   \n",
       "\n",
       "                                                   title            subreddit  \n",
       "0      Will coding boot camps help me get a job in te...  SoftwareEngineering  \n",
       "1      Maybe people do care about performance and rel...  SoftwareEngineering  \n",
       "2      Is there a way to have dynamic types between l...  SoftwareEngineering  \n",
       "3                                   spanish universities  SoftwareEngineering  \n",
       "4              Small question about users for a product.  SoftwareEngineering  \n",
       "...                                                  ...                  ...  \n",
       "11989             AI-generated poetry about data science          datascience  \n",
       "11990  I just accepted an offer for a Data Science po...          datascience  \n",
       "11991  Now get all official and unofficial code imple...          datascience  \n",
       "11992                     Poor mans saas hosted Alteryx?          datascience  \n",
       "11993                Business analyst or Help desk lead?          datascience  \n",
       "\n",
       "[11994 rows x 3 columns]"
      ]
     },
     "execution_count": 6,
     "metadata": {},
     "output_type": "execute_result"
    }
   ],
   "source": [
    "df"
   ]
  },
  {
   "cell_type": "code",
   "execution_count": 7,
   "id": "b06fabe8-e4f2-490b-9691-33ee347103f1",
   "metadata": {},
   "outputs": [],
   "source": [
    "# Consider each title or selftext as an individual document\n",
    "df_selftext = df.copy()[['selftext', 'subreddit']]\n",
    "df_title = df.copy()[['title', 'subreddit']]"
   ]
  },
  {
   "cell_type": "code",
   "execution_count": 8,
   "id": "1187d876-91f9-4fce-816c-66e1df4bb5da",
   "metadata": {},
   "outputs": [],
   "source": [
    "df_selftext.rename(columns = {'selftext': 'text'}, inplace = True)"
   ]
  },
  {
   "cell_type": "code",
   "execution_count": 9,
   "id": "481bdab7-b8e8-471f-b10a-45d7218b2987",
   "metadata": {},
   "outputs": [],
   "source": [
    "df_title.rename(columns = {'title': 'text'}, inplace = True)"
   ]
  },
  {
   "cell_type": "code",
   "execution_count": 10,
   "id": "d67768d9-77aa-4eb4-ae27-ec745e3d3674",
   "metadata": {},
   "outputs": [],
   "source": [
    "data = pd.concat([df_selftext, df_title], axis = 0, ignore_index = True)"
   ]
  },
  {
   "cell_type": "code",
   "execution_count": 11,
   "id": "fa833569-1a3f-43d6-aa79-fc6521305aea",
   "metadata": {},
   "outputs": [
    {
     "data": {
      "text/html": [
       "<div>\n",
       "<style scoped>\n",
       "    .dataframe tbody tr th:only-of-type {\n",
       "        vertical-align: middle;\n",
       "    }\n",
       "\n",
       "    .dataframe tbody tr th {\n",
       "        vertical-align: top;\n",
       "    }\n",
       "\n",
       "    .dataframe thead th {\n",
       "        text-align: right;\n",
       "    }\n",
       "</style>\n",
       "<table border=\"1\" class=\"dataframe\">\n",
       "  <thead>\n",
       "    <tr style=\"text-align: right;\">\n",
       "      <th></th>\n",
       "      <th>text</th>\n",
       "      <th>subreddit</th>\n",
       "    </tr>\n",
       "  </thead>\n",
       "  <tbody>\n",
       "    <tr>\n",
       "      <th>0</th>\n",
       "      <td>I recently dropped out of college from a nursi...</td>\n",
       "      <td>SoftwareEngineering</td>\n",
       "    </tr>\n",
       "    <tr>\n",
       "      <th>1</th>\n",
       "      <td>NaN</td>\n",
       "      <td>SoftwareEngineering</td>\n",
       "    </tr>\n",
       "    <tr>\n",
       "      <th>2</th>\n",
       "      <td>Hey everyone,\\n\\nI've been wondering if there'...</td>\n",
       "      <td>SoftwareEngineering</td>\n",
       "    </tr>\n",
       "    <tr>\n",
       "      <th>3</th>\n",
       "      <td>what are the public spanish universities that ...</td>\n",
       "      <td>SoftwareEngineering</td>\n",
       "    </tr>\n",
       "    <tr>\n",
       "      <th>4</th>\n",
       "      <td>So I am building an app like omegle, and I was...</td>\n",
       "      <td>SoftwareEngineering</td>\n",
       "    </tr>\n",
       "    <tr>\n",
       "      <th>...</th>\n",
       "      <td>...</td>\n",
       "      <td>...</td>\n",
       "    </tr>\n",
       "    <tr>\n",
       "      <th>23983</th>\n",
       "      <td>AI-generated poetry about data science</td>\n",
       "      <td>datascience</td>\n",
       "    </tr>\n",
       "    <tr>\n",
       "      <th>23984</th>\n",
       "      <td>I just accepted an offer for a Data Science po...</td>\n",
       "      <td>datascience</td>\n",
       "    </tr>\n",
       "    <tr>\n",
       "      <th>23985</th>\n",
       "      <td>Now get all official and unofficial code imple...</td>\n",
       "      <td>datascience</td>\n",
       "    </tr>\n",
       "    <tr>\n",
       "      <th>23986</th>\n",
       "      <td>Poor mans saas hosted Alteryx?</td>\n",
       "      <td>datascience</td>\n",
       "    </tr>\n",
       "    <tr>\n",
       "      <th>23987</th>\n",
       "      <td>Business analyst or Help desk lead?</td>\n",
       "      <td>datascience</td>\n",
       "    </tr>\n",
       "  </tbody>\n",
       "</table>\n",
       "<p>23988 rows × 2 columns</p>\n",
       "</div>"
      ],
      "text/plain": [
       "                                                    text            subreddit\n",
       "0      I recently dropped out of college from a nursi...  SoftwareEngineering\n",
       "1                                                    NaN  SoftwareEngineering\n",
       "2      Hey everyone,\\n\\nI've been wondering if there'...  SoftwareEngineering\n",
       "3      what are the public spanish universities that ...  SoftwareEngineering\n",
       "4      So I am building an app like omegle, and I was...  SoftwareEngineering\n",
       "...                                                  ...                  ...\n",
       "23983             AI-generated poetry about data science          datascience\n",
       "23984  I just accepted an offer for a Data Science po...          datascience\n",
       "23985  Now get all official and unofficial code imple...          datascience\n",
       "23986                     Poor mans saas hosted Alteryx?          datascience\n",
       "23987                Business analyst or Help desk lead?          datascience\n",
       "\n",
       "[23988 rows x 2 columns]"
      ]
     },
     "execution_count": 11,
     "metadata": {},
     "output_type": "execute_result"
    }
   ],
   "source": [
    "data"
   ]
  },
  {
   "cell_type": "code",
   "execution_count": 12,
   "id": "83df383a-3b30-4ec1-bdbd-20989dc071ce",
   "metadata": {},
   "outputs": [
    {
     "data": {
      "text/plain": [
       "text         2494\n",
       "subreddit       0\n",
       "dtype: int64"
      ]
     },
     "execution_count": 12,
     "metadata": {},
     "output_type": "execute_result"
    }
   ],
   "source": [
    "# Check if there is missing value\n",
    "data.isnull().sum()"
   ]
  },
  {
   "cell_type": "code",
   "execution_count": 13,
   "id": "8b1fa0c8-321b-465f-9d14-76887effcfbf",
   "metadata": {},
   "outputs": [],
   "source": [
    "# Delete rows with missing values\n",
    "data.dropna(inplace = True)"
   ]
  },
  {
   "cell_type": "code",
   "execution_count": 14,
   "id": "e0e58e25-2eab-4a90-9098-89c458c9da1f",
   "metadata": {},
   "outputs": [
    {
     "data": {
      "text/plain": [
       "text         0\n",
       "subreddit    0\n",
       "dtype: int64"
      ]
     },
     "execution_count": 14,
     "metadata": {},
     "output_type": "execute_result"
    }
   ],
   "source": [
    "data.isnull().sum()"
   ]
  },
  {
   "cell_type": "code",
   "execution_count": 15,
   "id": "b3ad5415-30af-406d-98c6-7a81aa055bee",
   "metadata": {},
   "outputs": [
    {
     "data": {
      "text/plain": [
       "6814"
      ]
     },
     "execution_count": 15,
     "metadata": {},
     "output_type": "execute_result"
    }
   ],
   "source": [
    "# Check duplicated value\n",
    "data.duplicated().sum()"
   ]
  },
  {
   "cell_type": "code",
   "execution_count": 16,
   "id": "24b4c604-d4e6-4c4f-a119-5b9ec0c25d93",
   "metadata": {},
   "outputs": [],
   "source": [
    "# Delete duplicated value\n",
    "data.drop_duplicates(inplace = True)"
   ]
  },
  {
   "cell_type": "code",
   "execution_count": 17,
   "id": "e127932a-4ed6-46c4-94cd-6900af098d66",
   "metadata": {},
   "outputs": [
    {
     "data": {
      "text/plain": [
       "0"
      ]
     },
     "execution_count": 17,
     "metadata": {},
     "output_type": "execute_result"
    }
   ],
   "source": [
    "data.duplicated().sum()"
   ]
  },
  {
   "cell_type": "code",
   "execution_count": 18,
   "id": "999d675e-e86a-4edb-b926-530d5950b36d",
   "metadata": {},
   "outputs": [
    {
     "data": {
      "text/plain": [
       "(14680, 2)"
      ]
     },
     "execution_count": 18,
     "metadata": {},
     "output_type": "execute_result"
    }
   ],
   "source": [
    "data.shape"
   ]
  },
  {
   "cell_type": "code",
   "execution_count": 19,
   "id": "3468cf73-238f-4beb-b713-d0fb5a6f6786",
   "metadata": {},
   "outputs": [
    {
     "data": {
      "text/plain": [
       "career advice                                                                                                   2\n",
       "Unproductive work meetings                                                                                      2\n",
       "I need help                                                                                                     2\n",
       "How to Master Python Fast and Easy: A Complete Simple tutorial Based on the Official Documentation of Python    2\n",
       "Attend Free Online Demo On Full Stack Data Science and AI By Mr. K.V.Rao                                        2\n",
       "                                                                                                               ..\n",
       "Seeking tech stack advice for medial apps                                                                       1\n",
       "[Question] What was the biggest challenge you faced when switching to remote work?                              1\n",
       "The Best Engineers Think Like Investors, Not Builders                                                           1\n",
       "Python method -- self=none                                                                                      1\n",
       "Business analyst or Help desk lead?                                                                             1\n",
       "Name: text, Length: 14652, dtype: int64"
      ]
     },
     "execution_count": 19,
     "metadata": {},
     "output_type": "execute_result"
    }
   ],
   "source": [
    "data['text'].value_counts()"
   ]
  },
  {
   "cell_type": "code",
   "execution_count": 20,
   "id": "b38181a4-3c3c-4de0-855b-778526977230",
   "metadata": {},
   "outputs": [],
   "source": [
    "# Delete rows with text \"[deleted]\"\n",
    "data = data[data['text'] != \"[deleted]\"]"
   ]
  },
  {
   "cell_type": "code",
   "execution_count": 21,
   "id": "6a3683e3-2e64-4088-83cb-646685e4d410",
   "metadata": {},
   "outputs": [],
   "source": [
    "# Delete rows with text \"[removed]\"\n",
    "data = data[data['text'] != \"[removed]\"]"
   ]
  },
  {
   "cell_type": "code",
   "execution_count": 22,
   "id": "155d3a46-bb36-4a23-868d-c85ae44e1787",
   "metadata": {},
   "outputs": [
    {
     "data": {
      "text/plain": [
       "career advice                                                                                                   2\n",
       "Unproductive work meetings                                                                                      2\n",
       "I need help                                                                                                     2\n",
       "Attend Free Online Demo On Full Stack Data Science and AI By Mr. K.V.Rao                                        2\n",
       "How to Master Python Fast and Easy: A Complete Simple tutorial Based on the Official Documentation of Python    2\n",
       "                                                                                                               ..\n",
       "Seeking tech stack advice for medial apps                                                                       1\n",
       "[Question] What was the biggest challenge you faced when switching to remote work?                              1\n",
       "The Best Engineers Think Like Investors, Not Builders                                                           1\n",
       "Python method -- self=none                                                                                      1\n",
       "Business analyst or Help desk lead?                                                                             1\n",
       "Name: text, Length: 14650, dtype: int64"
      ]
     },
     "execution_count": 22,
     "metadata": {},
     "output_type": "execute_result"
    }
   ],
   "source": [
    "data['text'].value_counts()"
   ]
  },
  {
   "cell_type": "code",
   "execution_count": 23,
   "id": "968210dc-9409-4aca-98e0-189e0764b54b",
   "metadata": {},
   "outputs": [
    {
     "data": {
      "text/plain": [
       "datascience            7993\n",
       "SoftwareEngineering    6682\n",
       "u_Learn-datascience       1\n",
       "Name: subreddit, dtype: int64"
      ]
     },
     "execution_count": 23,
     "metadata": {},
     "output_type": "execute_result"
    }
   ],
   "source": [
    "# Check target varaible\n",
    "data['subreddit'].value_counts()"
   ]
  },
  {
   "cell_type": "code",
   "execution_count": 24,
   "id": "4b816997-761f-4a3b-98b9-ccea1a1902f1",
   "metadata": {},
   "outputs": [],
   "source": [
    "# Drop rows with subreddit \"u_Learn-datascience\"\n",
    "data = data[data['subreddit'] != 'u_Learn-datascience']"
   ]
  },
  {
   "cell_type": "code",
   "execution_count": 25,
   "id": "45ae38ca-5aa5-4df7-9923-e0ae3a785313",
   "metadata": {},
   "outputs": [
    {
     "data": {
      "text/plain": [
       "datascience            0.544668\n",
       "SoftwareEngineering    0.455332\n",
       "Name: subreddit, dtype: float64"
      ]
     },
     "execution_count": 25,
     "metadata": {},
     "output_type": "execute_result"
    }
   ],
   "source": [
    "data['subreddit'].value_counts(normalize = True)"
   ]
  },
  {
   "cell_type": "code",
   "execution_count": 26,
   "id": "cd9ae22a-8db5-4506-ba0b-52456103dce4",
   "metadata": {},
   "outputs": [
    {
     "data": {
      "text/plain": [
       "subreddit\n",
       "SoftwareEngineering    6682\n",
       "datascience            7993\n",
       "dtype: int64"
      ]
     },
     "execution_count": 26,
     "metadata": {},
     "output_type": "execute_result"
    }
   ],
   "source": [
    "data.groupby('subreddit').size()"
   ]
  },
  {
   "cell_type": "code",
   "execution_count": 27,
   "id": "44253dfb-f244-4dc6-8191-6b95e7daf838",
   "metadata": {},
   "outputs": [
    {
     "data": {
      "text/html": [
       "<div>\n",
       "<style scoped>\n",
       "    .dataframe tbody tr th:only-of-type {\n",
       "        vertical-align: middle;\n",
       "    }\n",
       "\n",
       "    .dataframe tbody tr th {\n",
       "        vertical-align: top;\n",
       "    }\n",
       "\n",
       "    .dataframe thead th {\n",
       "        text-align: right;\n",
       "    }\n",
       "</style>\n",
       "<table border=\"1\" class=\"dataframe\">\n",
       "  <thead>\n",
       "    <tr style=\"text-align: right;\">\n",
       "      <th></th>\n",
       "      <th>text</th>\n",
       "      <th>subreddit</th>\n",
       "      <th>length</th>\n",
       "    </tr>\n",
       "  </thead>\n",
       "  <tbody>\n",
       "    <tr>\n",
       "      <th>0</th>\n",
       "      <td>I recently dropped out of college from a nursi...</td>\n",
       "      <td>SoftwareEngineering</td>\n",
       "      <td>282</td>\n",
       "    </tr>\n",
       "    <tr>\n",
       "      <th>2</th>\n",
       "      <td>Hey everyone,\\n\\nI've been wondering if there'...</td>\n",
       "      <td>SoftwareEngineering</td>\n",
       "      <td>679</td>\n",
       "    </tr>\n",
       "    <tr>\n",
       "      <th>3</th>\n",
       "      <td>what are the public spanish universities that ...</td>\n",
       "      <td>SoftwareEngineering</td>\n",
       "      <td>94</td>\n",
       "    </tr>\n",
       "    <tr>\n",
       "      <th>4</th>\n",
       "      <td>So I am building an app like omegle, and I was...</td>\n",
       "      <td>SoftwareEngineering</td>\n",
       "      <td>165</td>\n",
       "    </tr>\n",
       "    <tr>\n",
       "      <th>5</th>\n",
       "      <td>In every team I have worked until now, I never...</td>\n",
       "      <td>SoftwareEngineering</td>\n",
       "      <td>682</td>\n",
       "    </tr>\n",
       "  </tbody>\n",
       "</table>\n",
       "</div>"
      ],
      "text/plain": [
       "                                                text            subreddit  \\\n",
       "0  I recently dropped out of college from a nursi...  SoftwareEngineering   \n",
       "2  Hey everyone,\\n\\nI've been wondering if there'...  SoftwareEngineering   \n",
       "3  what are the public spanish universities that ...  SoftwareEngineering   \n",
       "4  So I am building an app like omegle, and I was...  SoftwareEngineering   \n",
       "5  In every team I have worked until now, I never...  SoftwareEngineering   \n",
       "\n",
       "   length  \n",
       "0     282  \n",
       "2     679  \n",
       "3      94  \n",
       "4     165  \n",
       "5     682  "
      ]
     },
     "execution_count": 27,
     "metadata": {},
     "output_type": "execute_result"
    }
   ],
   "source": [
    "# Create char length for text\n",
    "data['length'] = data['text'].apply(len)\n",
    "\n",
    "data.head()"
   ]
  },
  {
   "cell_type": "code",
   "execution_count": 28,
   "id": "e34c177c-b04c-4c68-b1ac-66dfbb407cc5",
   "metadata": {},
   "outputs": [
    {
     "data": {
      "text/html": [
       "<div>\n",
       "<style scoped>\n",
       "    .dataframe tbody tr th:only-of-type {\n",
       "        vertical-align: middle;\n",
       "    }\n",
       "\n",
       "    .dataframe tbody tr th {\n",
       "        vertical-align: top;\n",
       "    }\n",
       "\n",
       "    .dataframe thead th {\n",
       "        text-align: right;\n",
       "    }\n",
       "</style>\n",
       "<table border=\"1\" class=\"dataframe\">\n",
       "  <thead>\n",
       "    <tr style=\"text-align: right;\">\n",
       "      <th></th>\n",
       "      <th>text</th>\n",
       "      <th>subreddit</th>\n",
       "      <th>length</th>\n",
       "      <th>word_count</th>\n",
       "    </tr>\n",
       "  </thead>\n",
       "  <tbody>\n",
       "    <tr>\n",
       "      <th>0</th>\n",
       "      <td>I recently dropped out of college from a nursi...</td>\n",
       "      <td>SoftwareEngineering</td>\n",
       "      <td>282</td>\n",
       "      <td>53</td>\n",
       "    </tr>\n",
       "    <tr>\n",
       "      <th>2</th>\n",
       "      <td>Hey everyone,\\n\\nI've been wondering if there'...</td>\n",
       "      <td>SoftwareEngineering</td>\n",
       "      <td>679</td>\n",
       "      <td>111</td>\n",
       "    </tr>\n",
       "    <tr>\n",
       "      <th>3</th>\n",
       "      <td>what are the public spanish universities that ...</td>\n",
       "      <td>SoftwareEngineering</td>\n",
       "      <td>94</td>\n",
       "      <td>14</td>\n",
       "    </tr>\n",
       "    <tr>\n",
       "      <th>4</th>\n",
       "      <td>So I am building an app like omegle, and I was...</td>\n",
       "      <td>SoftwareEngineering</td>\n",
       "      <td>165</td>\n",
       "      <td>31</td>\n",
       "    </tr>\n",
       "    <tr>\n",
       "      <th>5</th>\n",
       "      <td>In every team I have worked until now, I never...</td>\n",
       "      <td>SoftwareEngineering</td>\n",
       "      <td>682</td>\n",
       "      <td>128</td>\n",
       "    </tr>\n",
       "  </tbody>\n",
       "</table>\n",
       "</div>"
      ],
      "text/plain": [
       "                                                text            subreddit  \\\n",
       "0  I recently dropped out of college from a nursi...  SoftwareEngineering   \n",
       "2  Hey everyone,\\n\\nI've been wondering if there'...  SoftwareEngineering   \n",
       "3  what are the public spanish universities that ...  SoftwareEngineering   \n",
       "4  So I am building an app like omegle, and I was...  SoftwareEngineering   \n",
       "5  In every team I have worked until now, I never...  SoftwareEngineering   \n",
       "\n",
       "   length  word_count  \n",
       "0     282          53  \n",
       "2     679         111  \n",
       "3      94          14  \n",
       "4     165          31  \n",
       "5     682         128  "
      ]
     },
     "execution_count": 28,
     "metadata": {},
     "output_type": "execute_result"
    }
   ],
   "source": [
    "# Create the word count\n",
    "data['word_count'] = data['text'].apply(lambda x: len(x.split()))\n",
    "\n",
    "data.head()"
   ]
  },
  {
   "cell_type": "code",
   "execution_count": 29,
   "id": "8ed4b365-65ed-4b7d-9c67-9ee9a1b367e4",
   "metadata": {},
   "outputs": [
    {
     "data": {
      "text/html": [
       "<div>\n",
       "<style scoped>\n",
       "    .dataframe tbody tr th:only-of-type {\n",
       "        vertical-align: middle;\n",
       "    }\n",
       "\n",
       "    .dataframe tbody tr th {\n",
       "        vertical-align: top;\n",
       "    }\n",
       "\n",
       "    .dataframe thead th {\n",
       "        text-align: right;\n",
       "    }\n",
       "</style>\n",
       "<table border=\"1\" class=\"dataframe\">\n",
       "  <thead>\n",
       "    <tr style=\"text-align: right;\">\n",
       "      <th></th>\n",
       "      <th>length</th>\n",
       "      <th>word_count</th>\n",
       "    </tr>\n",
       "  </thead>\n",
       "  <tbody>\n",
       "    <tr>\n",
       "      <th>count</th>\n",
       "      <td>14675.000000</td>\n",
       "      <td>14675.000000</td>\n",
       "    </tr>\n",
       "    <tr>\n",
       "      <th>mean</th>\n",
       "      <td>223.148348</td>\n",
       "      <td>37.360273</td>\n",
       "    </tr>\n",
       "    <tr>\n",
       "      <th>std</th>\n",
       "      <td>518.645940</td>\n",
       "      <td>84.600918</td>\n",
       "    </tr>\n",
       "    <tr>\n",
       "      <th>min</th>\n",
       "      <td>1.000000</td>\n",
       "      <td>1.000000</td>\n",
       "    </tr>\n",
       "    <tr>\n",
       "      <th>25%</th>\n",
       "      <td>38.000000</td>\n",
       "      <td>6.000000</td>\n",
       "    </tr>\n",
       "    <tr>\n",
       "      <th>50%</th>\n",
       "      <td>60.000000</td>\n",
       "      <td>10.000000</td>\n",
       "    </tr>\n",
       "    <tr>\n",
       "      <th>75%</th>\n",
       "      <td>137.000000</td>\n",
       "      <td>23.000000</td>\n",
       "    </tr>\n",
       "    <tr>\n",
       "      <th>max</th>\n",
       "      <td>14702.000000</td>\n",
       "      <td>2454.000000</td>\n",
       "    </tr>\n",
       "  </tbody>\n",
       "</table>\n",
       "</div>"
      ],
      "text/plain": [
       "             length    word_count\n",
       "count  14675.000000  14675.000000\n",
       "mean     223.148348     37.360273\n",
       "std      518.645940     84.600918\n",
       "min        1.000000      1.000000\n",
       "25%       38.000000      6.000000\n",
       "50%       60.000000     10.000000\n",
       "75%      137.000000     23.000000\n",
       "max    14702.000000   2454.000000"
      ]
     },
     "execution_count": 29,
     "metadata": {},
     "output_type": "execute_result"
    }
   ],
   "source": [
    "# Summary stats on length and word_count\n",
    "data.describe()"
   ]
  },
  {
   "cell_type": "code",
   "execution_count": 30,
   "id": "2fa2a330-a9da-4af9-b50d-77b8e11a765f",
   "metadata": {},
   "outputs": [
    {
     "data": {
      "text/html": [
       "<div>\n",
       "<style scoped>\n",
       "    .dataframe tbody tr th:only-of-type {\n",
       "        vertical-align: middle;\n",
       "    }\n",
       "\n",
       "    .dataframe tbody tr th {\n",
       "        vertical-align: top;\n",
       "    }\n",
       "\n",
       "    .dataframe thead th {\n",
       "        text-align: right;\n",
       "    }\n",
       "</style>\n",
       "<table border=\"1\" class=\"dataframe\">\n",
       "  <thead>\n",
       "    <tr style=\"text-align: right;\">\n",
       "      <th></th>\n",
       "      <th>text</th>\n",
       "      <th>subreddit</th>\n",
       "      <th>length</th>\n",
       "      <th>word_count</th>\n",
       "    </tr>\n",
       "  </thead>\n",
       "  <tbody>\n",
       "    <tr>\n",
       "      <th>10811</th>\n",
       "      <td>?</td>\n",
       "      <td>datascience</td>\n",
       "      <td>1</td>\n",
       "      <td>1</td>\n",
       "    </tr>\n",
       "    <tr>\n",
       "      <th>12456</th>\n",
       "      <td>rdbms</td>\n",
       "      <td>SoftwareEngineering</td>\n",
       "      <td>5</td>\n",
       "      <td>1</td>\n",
       "    </tr>\n",
       "    <tr>\n",
       "      <th>13098</th>\n",
       "      <td>help</td>\n",
       "      <td>SoftwareEngineering</td>\n",
       "      <td>4</td>\n",
       "      <td>1</td>\n",
       "    </tr>\n",
       "    <tr>\n",
       "      <th>13200</th>\n",
       "      <td>?????</td>\n",
       "      <td>SoftwareEngineering</td>\n",
       "      <td>5</td>\n",
       "      <td>1</td>\n",
       "    </tr>\n",
       "    <tr>\n",
       "      <th>13474</th>\n",
       "      <td>haha</td>\n",
       "      <td>SoftwareEngineering</td>\n",
       "      <td>4</td>\n",
       "      <td>1</td>\n",
       "    </tr>\n",
       "    <tr>\n",
       "      <th>13590</th>\n",
       "      <td>Hi</td>\n",
       "      <td>SoftwareEngineering</td>\n",
       "      <td>2</td>\n",
       "      <td>1</td>\n",
       "    </tr>\n",
       "    <tr>\n",
       "      <th>13607</th>\n",
       "      <td>UML</td>\n",
       "      <td>SoftwareEngineering</td>\n",
       "      <td>3</td>\n",
       "      <td>1</td>\n",
       "    </tr>\n",
       "    <tr>\n",
       "      <th>14756</th>\n",
       "      <td>Test</td>\n",
       "      <td>SoftwareEngineering</td>\n",
       "      <td>4</td>\n",
       "      <td>1</td>\n",
       "    </tr>\n",
       "    <tr>\n",
       "      <th>15216</th>\n",
       "      <td>Hmmm…</td>\n",
       "      <td>SoftwareEngineering</td>\n",
       "      <td>5</td>\n",
       "      <td>1</td>\n",
       "    </tr>\n",
       "    <tr>\n",
       "      <th>15633</th>\n",
       "      <td>Cs50?</td>\n",
       "      <td>SoftwareEngineering</td>\n",
       "      <td>5</td>\n",
       "      <td>1</td>\n",
       "    </tr>\n",
       "    <tr>\n",
       "      <th>15981</th>\n",
       "      <td>Swap</td>\n",
       "      <td>SoftwareEngineering</td>\n",
       "      <td>4</td>\n",
       "      <td>1</td>\n",
       "    </tr>\n",
       "    <tr>\n",
       "      <th>15998</th>\n",
       "      <td>HELP</td>\n",
       "      <td>SoftwareEngineering</td>\n",
       "      <td>4</td>\n",
       "      <td>1</td>\n",
       "    </tr>\n",
       "    <tr>\n",
       "      <th>16148</th>\n",
       "      <td>HTML!</td>\n",
       "      <td>SoftwareEngineering</td>\n",
       "      <td>5</td>\n",
       "      <td>1</td>\n",
       "    </tr>\n",
       "    <tr>\n",
       "      <th>17364</th>\n",
       "      <td>Hello</td>\n",
       "      <td>SoftwareEngineering</td>\n",
       "      <td>5</td>\n",
       "      <td>1</td>\n",
       "    </tr>\n",
       "    <tr>\n",
       "      <th>17384</th>\n",
       "      <td>help.</td>\n",
       "      <td>SoftwareEngineering</td>\n",
       "      <td>5</td>\n",
       "      <td>1</td>\n",
       "    </tr>\n",
       "    <tr>\n",
       "      <th>17409</th>\n",
       "      <td>Qu</td>\n",
       "      <td>SoftwareEngineering</td>\n",
       "      <td>2</td>\n",
       "      <td>1</td>\n",
       "    </tr>\n",
       "    <tr>\n",
       "      <th>17928</th>\n",
       "      <td>Volvo</td>\n",
       "      <td>SoftwareEngineering</td>\n",
       "      <td>5</td>\n",
       "      <td>1</td>\n",
       "    </tr>\n",
       "    <tr>\n",
       "      <th>18053</th>\n",
       "      <td>🫡</td>\n",
       "      <td>datascience</td>\n",
       "      <td>1</td>\n",
       "      <td>1</td>\n",
       "    </tr>\n",
       "    <tr>\n",
       "      <th>18482</th>\n",
       "      <td>Hi</td>\n",
       "      <td>datascience</td>\n",
       "      <td>2</td>\n",
       "      <td>1</td>\n",
       "    </tr>\n",
       "    <tr>\n",
       "      <th>19285</th>\n",
       "      <td>Good</td>\n",
       "      <td>datascience</td>\n",
       "      <td>4</td>\n",
       "      <td>1</td>\n",
       "    </tr>\n",
       "    <tr>\n",
       "      <th>19558</th>\n",
       "      <td>git</td>\n",
       "      <td>datascience</td>\n",
       "      <td>3</td>\n",
       "      <td>1</td>\n",
       "    </tr>\n",
       "    <tr>\n",
       "      <th>20328</th>\n",
       "      <td>Anova</td>\n",
       "      <td>datascience</td>\n",
       "      <td>5</td>\n",
       "      <td>1</td>\n",
       "    </tr>\n",
       "    <tr>\n",
       "      <th>20583</th>\n",
       "      <td>Help</td>\n",
       "      <td>datascience</td>\n",
       "      <td>4</td>\n",
       "      <td>1</td>\n",
       "    </tr>\n",
       "    <tr>\n",
       "      <th>20749</th>\n",
       "      <td>Julia</td>\n",
       "      <td>datascience</td>\n",
       "      <td>5</td>\n",
       "      <td>1</td>\n",
       "    </tr>\n",
       "    <tr>\n",
       "      <th>21096</th>\n",
       "      <td>help</td>\n",
       "      <td>datascience</td>\n",
       "      <td>4</td>\n",
       "      <td>1</td>\n",
       "    </tr>\n",
       "    <tr>\n",
       "      <th>21370</th>\n",
       "      <td>sigh</td>\n",
       "      <td>datascience</td>\n",
       "      <td>4</td>\n",
       "      <td>1</td>\n",
       "    </tr>\n",
       "    <tr>\n",
       "      <th>21764</th>\n",
       "      <td>Mooc</td>\n",
       "      <td>datascience</td>\n",
       "      <td>4</td>\n",
       "      <td>1</td>\n",
       "    </tr>\n",
       "    <tr>\n",
       "      <th>23025</th>\n",
       "      <td>test</td>\n",
       "      <td>datascience</td>\n",
       "      <td>4</td>\n",
       "      <td>1</td>\n",
       "    </tr>\n",
       "    <tr>\n",
       "      <th>23699</th>\n",
       "      <td>Uh..</td>\n",
       "      <td>datascience</td>\n",
       "      <td>4</td>\n",
       "      <td>1</td>\n",
       "    </tr>\n",
       "  </tbody>\n",
       "</table>\n",
       "</div>"
      ],
      "text/plain": [
       "        text            subreddit  length  word_count\n",
       "10811      ?          datascience       1           1\n",
       "12456  rdbms  SoftwareEngineering       5           1\n",
       "13098   help  SoftwareEngineering       4           1\n",
       "13200  ?????  SoftwareEngineering       5           1\n",
       "13474   haha  SoftwareEngineering       4           1\n",
       "13590     Hi  SoftwareEngineering       2           1\n",
       "13607    UML  SoftwareEngineering       3           1\n",
       "14756   Test  SoftwareEngineering       4           1\n",
       "15216  Hmmm…  SoftwareEngineering       5           1\n",
       "15633  Cs50?  SoftwareEngineering       5           1\n",
       "15981   Swap  SoftwareEngineering       4           1\n",
       "15998   HELP  SoftwareEngineering       4           1\n",
       "16148  HTML!  SoftwareEngineering       5           1\n",
       "17364  Hello  SoftwareEngineering       5           1\n",
       "17384  help.  SoftwareEngineering       5           1\n",
       "17409     Qu  SoftwareEngineering       2           1\n",
       "17928  Volvo  SoftwareEngineering       5           1\n",
       "18053      🫡          datascience       1           1\n",
       "18482     Hi          datascience       2           1\n",
       "19285   Good          datascience       4           1\n",
       "19558    git          datascience       3           1\n",
       "20328  Anova          datascience       5           1\n",
       "20583   Help          datascience       4           1\n",
       "20749  Julia          datascience       5           1\n",
       "21096   help          datascience       4           1\n",
       "21370   sigh          datascience       4           1\n",
       "21764   Mooc          datascience       4           1\n",
       "23025   test          datascience       4           1\n",
       "23699   Uh..          datascience       4           1"
      ]
     },
     "execution_count": 30,
     "metadata": {},
     "output_type": "execute_result"
    }
   ],
   "source": [
    "# Check length of text smaller than 5\n",
    "data[data['text'].str.len() <= 5]"
   ]
  },
  {
   "cell_type": "code",
   "execution_count": 31,
   "id": "a19c9c07-30a7-4aed-aa49-43d9432292ff",
   "metadata": {},
   "outputs": [],
   "source": [
    "# Delete two rows with '?' and '^'\n",
    "data = data[data['text'] != '?']\n",
    "data = data[data['text'] != '🫡']"
   ]
  },
  {
   "cell_type": "code",
   "execution_count": 32,
   "id": "6731d03e-6ee5-4e9e-a0f4-51db1494ebf2",
   "metadata": {},
   "outputs": [
    {
     "data": {
      "text/plain": [
       "(14673, 4)"
      ]
     },
     "execution_count": 32,
     "metadata": {},
     "output_type": "execute_result"
    }
   ],
   "source": [
    "data.shape"
   ]
  },
  {
   "cell_type": "code",
   "execution_count": 33,
   "id": "a2160ee9-9597-49fe-800e-45de9915b0a4",
   "metadata": {},
   "outputs": [
    {
     "data": {
      "image/png": "[encoded data removed]",
      "text/plain": [
       "<Figure size 1000x800 with 1 Axes>"
      ]
     },
     "metadata": {},
     "output_type": "display_data"
    }
   ],
   "source": [
    "# Barchart of number of documents in each subreddit\n",
    "plt.figure(figsize = (10, 8))\n",
    "ax = sns.barplot(x = data.groupby('subreddit').size().index, y = data.groupby('subreddit').size().values)\n",
    "ax.bar_label(ax.containers[0])\n",
    "plt.xlabel('Subreddit', fontsize = 20)\n",
    "plt.ylabel('Count', fontsize = 20)\n",
    "plt.title('Number of Documents in Each Subreddit', fontsize = 20)\n",
    "plt.savefig(f'../graphs/number_of_documents.png');"
   ]
  },
  {
   "cell_type": "code",
   "execution_count": 34,
   "id": "05b0771a-7f04-4993-bacb-e0a5337148d6",
   "metadata": {},
   "outputs": [
    {
     "data": {
      "text/html": [
       "<div>\n",
       "<style scoped>\n",
       "    .dataframe tbody tr th:only-of-type {\n",
       "        vertical-align: middle;\n",
       "    }\n",
       "\n",
       "    .dataframe tbody tr th {\n",
       "        vertical-align: top;\n",
       "    }\n",
       "\n",
       "    .dataframe thead th {\n",
       "        text-align: right;\n",
       "    }\n",
       "</style>\n",
       "<table border=\"1\" class=\"dataframe\">\n",
       "  <thead>\n",
       "    <tr style=\"text-align: right;\">\n",
       "      <th></th>\n",
       "      <th>word_count</th>\n",
       "    </tr>\n",
       "    <tr>\n",
       "      <th>subreddit</th>\n",
       "      <th></th>\n",
       "    </tr>\n",
       "  </thead>\n",
       "  <tbody>\n",
       "    <tr>\n",
       "      <th>SoftwareEngineering</th>\n",
       "      <td>27.728225</td>\n",
       "    </tr>\n",
       "    <tr>\n",
       "      <th>datascience</th>\n",
       "      <td>45.423602</td>\n",
       "    </tr>\n",
       "  </tbody>\n",
       "</table>\n",
       "</div>"
      ],
      "text/plain": [
       "                     word_count\n",
       "subreddit                      \n",
       "SoftwareEngineering   27.728225\n",
       "datascience           45.423602"
      ]
     },
     "execution_count": 34,
     "metadata": {},
     "output_type": "execute_result"
    }
   ],
   "source": [
    "# mean number of word_count for each subreddit\n",
    "data.groupby('subreddit').agg({'word_count': 'mean'})"
   ]
  },
  {
   "cell_type": "code",
   "execution_count": 35,
   "id": "dbfa9ac4-5d28-4af7-b4e0-429ecbb8ab94",
   "metadata": {},
   "outputs": [
    {
     "data": {
      "image/png": "[encoded data removed]",
      "text/plain": [
       "<Figure size 640x480 with 1 Axes>"
      ]
     },
     "metadata": {},
     "output_type": "display_data"
    }
   ],
   "source": [
    "ax = sns.barplot(y = data.groupby('subreddit').agg({'word_count': 'mean'}).word_count, x = data.groupby('subreddit').agg({'word_count': 'mean'}).index)\n",
    "ax.bar_label(ax.containers[0])\n",
    "plt.xlabel('Subreddit', fontsize = 20)\n",
    "plt.ylabel('Count', fontsize = 20)\n",
    "plt.title('Average Word Count of Each Subreddit', fontsize = 20);"
   ]
  },
  {
   "cell_type": "code",
   "execution_count": 36,
   "id": "692c9ce3-d5fa-41ba-9cff-cf3a0cd7c48c",
   "metadata": {},
   "outputs": [
    {
     "data": {
      "text/html": [
       "<div>\n",
       "<style scoped>\n",
       "    .dataframe tbody tr th:only-of-type {\n",
       "        vertical-align: middle;\n",
       "    }\n",
       "\n",
       "    .dataframe tbody tr th {\n",
       "        vertical-align: top;\n",
       "    }\n",
       "\n",
       "    .dataframe thead th {\n",
       "        text-align: right;\n",
       "    }\n",
       "</style>\n",
       "<table border=\"1\" class=\"dataframe\">\n",
       "  <thead>\n",
       "    <tr style=\"text-align: right;\">\n",
       "      <th></th>\n",
       "      <th>length</th>\n",
       "    </tr>\n",
       "    <tr>\n",
       "      <th>subreddit</th>\n",
       "      <th></th>\n",
       "    </tr>\n",
       "  </thead>\n",
       "  <tbody>\n",
       "    <tr>\n",
       "      <th>SoftwareEngineering</th>\n",
       "      <td>166.361269</td>\n",
       "    </tr>\n",
       "    <tr>\n",
       "      <th>datascience</th>\n",
       "      <td>270.688775</td>\n",
       "    </tr>\n",
       "  </tbody>\n",
       "</table>\n",
       "</div>"
      ],
      "text/plain": [
       "                         length\n",
       "subreddit                      \n",
       "SoftwareEngineering  166.361269\n",
       "datascience          270.688775"
      ]
     },
     "execution_count": 36,
     "metadata": {},
     "output_type": "execute_result"
    }
   ],
   "source": [
    "# mean number of length for each subreddit\n",
    "data.groupby('subreddit').agg({'length': 'mean'})"
   ]
  },
  {
   "cell_type": "code",
   "execution_count": 37,
   "id": "859c1a1b-53d0-4c69-bcc0-5646f6270f7c",
   "metadata": {},
   "outputs": [
    {
     "data": {
      "image/png": "[encoded data removed]",
      "text/plain": [
       "<Figure size 1600x1600 with 4 Axes>"
      ]
     },
     "metadata": {},
     "output_type": "display_data"
    }
   ],
   "source": [
    "# Plot length and word count distributions by author\n",
    "fig, ax = plt.subplots(2, 2, figsize = (16, 16))\n",
    "sns.histplot(data[data['subreddit'] == 'datascience']['length'], ax = ax[0, 0])\n",
    "sns.histplot(data[data['subreddit'] == 'SoftwareEngineering']['length'], ax = ax[0, 1])\n",
    "sns.histplot(data[data['subreddit'] == 'datascience']['word_count'], ax = ax[1, 0])\n",
    "sns.histplot(data[data['subreddit'] == 'SoftwareEngineering']['word_count'], ax = ax[1, 1])\n",
    "\n",
    "ax[0, 0].set(xlabel = 'length', title = 'Data Science Length', xlim = [-100, 4000])\n",
    "ax[0, 1].set(xlabel = 'length', title = 'Software Engineering Length', xlim = [-100, 2000])\n",
    "ax[1, 0].set(xlabel = 'Word Count', title = 'Data Science Word Count')\n",
    "ax[1, 1].set(xlabel = 'Word Count', title = 'Software Engineering Word Count')\n",
    "\n",
    "fig.suptitle('Character & Word Count Distributions', fontsize = 20);"
   ]
  },
  {
   "cell_type": "code",
   "execution_count": 38,
   "id": "784af9e5-e90d-4640-a4c8-6cdb4eb21131",
   "metadata": {},
   "outputs": [
    {
     "data": {
      "image/png": "[encoded data removed]",
      "text/plain": [
       "<Figure size 1600x500 with 2 Axes>"
      ]
     },
     "metadata": {},
     "output_type": "display_data"
    }
   ],
   "source": [
    "# Create clear distribution for length and word count\n",
    "fig, ax = plt.subplots(1, 2, figsize = (16, 5))\n",
    "\n",
    "sns.histplot(data[data['subreddit'] == 'datascience']['length'], ax = ax[0])\n",
    "sns.histplot(data[data['subreddit'] == 'SoftwareEngineering']['length'], ax = ax[1])\n",
    "\n",
    "ax[0].set(title = 'Data Science Length Count', xlim = [-100, 4000])\n",
    "ax[1].set(title = 'Software Engineering Length Count', xlim = [-100, 4000])\n",
    "\n",
    "fig.suptitle('Character Length Distribution for Each Subreddit', fontsize = 20);"
   ]
  },
  {
   "cell_type": "code",
   "execution_count": 39,
   "id": "7fd806ec-3144-4c52-96c8-b89481b80f68",
   "metadata": {},
   "outputs": [
    {
     "data": {
      "image/png": "[encoded data removed]",
      "text/plain": [
       "<Figure size 1600x500 with 2 Axes>"
      ]
     },
     "metadata": {},
     "output_type": "display_data"
    }
   ],
   "source": [
    "fig, ax = plt.subplots(1, 2, figsize = (16, 5))\n",
    "\n",
    "sns.histplot(data[data['subreddit'] == 'datascience']['word_count'], ax = ax[0])\n",
    "sns.histplot(data[data['subreddit'] == 'SoftwareEngineering']['word_count'], ax = ax[1])\n",
    "\n",
    "ax[0].set(title = 'Data Science Word Count', xlim = [-10, 400])\n",
    "ax[1].set(title = 'Software Engineering Word Count', xlim = [-10, 400])\n",
    "\n",
    "fig.suptitle('Word Count Distribution for Each Subreddit', fontsize = 20);"
   ]
  },
  {
   "cell_type": "code",
   "execution_count": 40,
   "id": "0dbbd3c9-6079-4ea7-a236-174cfbe9d01b",
   "metadata": {},
   "outputs": [],
   "source": [
    "data.to_csv('../data/data_cleaned.csv', index = False)"
   ]
  },
  {
   "cell_type": "code",
   "execution_count": null,
   "id": "aa7dd152-d169-4bee-8b3e-618b35e871b5",
   "metadata": {},
   "outputs": [],
   "source": []
  }
 ],
 "metadata": {
  "kernelspec": {
   "display_name": "Python 3 (ipykernel)",
   "language": "python",
   "name": "python3"
  },
  "language_info": {
   "codemirror_mode": {
    "name": "ipython",
    "version": 3
   },
   "file_extension": ".py",
   "mimetype": "text/x-python",
   "name": "python",
   "nbconvert_exporter": "python",
   "pygments_lexer": "ipython3",
   "version": "3.9.13"
  }
 },
 "nbformat": 4,
 "nbformat_minor": 5
}
